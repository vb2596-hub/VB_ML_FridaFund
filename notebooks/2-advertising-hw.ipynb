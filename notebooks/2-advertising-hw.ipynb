{
  "cells": [
    {
      "cell_type": "markdown",
      "metadata": {
        "id": "1e31d76c-4a6e-4551-ae89-2dc05edaef4c"
      },
      "source": [
        "# Assignment: Linear regression on the Advertising data\n",
        "\n",
        "*Fraida Fund*"
      ],
      "id": "1e31d76c-4a6e-4551-ae89-2dc05edaef4c"
    },
    {
      "cell_type": "markdown",
      "metadata": {
        "id": "1ed79b70-5aa0-42ca-ae8e-82c05871fcca"
      },
      "source": [
        "Fill in your name and net ID:\n",
        "\n",
        "-   **Name**: Vanshika Bagaria\n",
        "-   **net ID**: vb2596"
      ],
      "id": "1ed79b70-5aa0-42ca-ae8e-82c05871fcca"
    },
    {
      "cell_type": "markdown",
      "metadata": {
        "id": "c27164ac-cdd6-4ede-9f7f-9a0e17f06eee"
      },
      "source": [
        "Make a copy of this notebook in your own Google Drive and, as you work through it, fill in missing code and answers to the questions.\n",
        "\n",
        "After you are finished, you will copy your answers from individual sections *and* a copy of the entire notebook into PrairieLearn for submission. (Note that the PrairieLearn autograder will expect that you have used exactly the variable names shown in this template notebook.)\n",
        "\n",
        "Answers to open-ended questions (e.g. “Comment on the results..”) must be **in your own words**, reflecting your own interpretation and understanding, and must refer to specific results (including numeric values) you obtained in this notebook."
      ],
      "id": "c27164ac-cdd6-4ede-9f7f-9a0e17f06eee"
    },
    {
      "cell_type": "markdown",
      "metadata": {
        "id": "4aa5fea9-fe34-4030-9611-af3ba587a754"
      },
      "source": [
        "To illustrate principles of linear regression, we are going to use some data from the textbook “An Introduction to Statistical Learning” (Gareth James, Daniela Witten, Trevor Hastie, Robert Tibshirani).\n",
        "\n",
        "The dataset is described as follows:\n",
        "\n",
        "> Suppose that we are statistical consultants hired by a client to provide advice on how to improve sales of a particular product. The `Advertising` data set consists of the sales of that product in 200 different markets, along with advertising budgets for the product in each of those markets for three different media: TV, radio, and newspaper.\n",
        ">\n",
        "> …\n",
        ">\n",
        "> It is not possible for our client to directly increase sales of the product. On the other hand, they can control the advertising expenditure in each of the three media. Therefore, if we determine that there is an association between advertising and sales, then we can instruct our client to adjust advertising budgets, thereby indirectly increasing sales. In other words, our goal is to develop an accurate model that can be used to predict sales on the basis of the three media budgets.\n",
        "\n",
        "Sales are reported in thousands of units, and TV, radio, and newspaper budgets, are reported in thousands of dollars.\n",
        "\n",
        "For this assignment, you will fit a linear regression model to a small dataset. You will iteratively improve your linear regression model by examining the residuals at each stage, in order to identify problems with the model."
      ],
      "id": "4aa5fea9-fe34-4030-9611-af3ba587a754"
    },
    {
      "cell_type": "code",
      "execution_count": null,
      "metadata": {
        "id": "f1c659a3-21fc-4d46-bf46-35ddfd420e89"
      },
      "outputs": [],
      "source": [
        "from sklearn import metrics\n",
        "from sklearn.linear_model import LinearRegression\n",
        "from sklearn.model_selection import train_test_split\n",
        "\n",
        "import numpy as np\n",
        "import matplotlib.pyplot as plt\n",
        "import pandas as pd\n",
        "import seaborn as sns\n",
        "sns.set()"
      ],
      "id": "f1c659a3-21fc-4d46-bf46-35ddfd420e89"
    },
    {
      "cell_type": "markdown",
      "metadata": {
        "id": "1a635fbd-aa93-442d-85ae-b80229191517"
      },
      "source": [
        "### 0. Read in and pre-process data\n",
        "\n",
        "In this section, you will read in the “Advertising” data, and make sure it is loaded correctly. Then, split the data into training data (70%) and test data (30%). We will use *only* the training data in our visualizations, etc.\n",
        "\n",
        "Visually inspect the data using a pairplot, and note any meaningful observations. In particular, comment on which features appear to be correlated with product sales, and which features appear to be correlated with one another.\n",
        "\n",
        "**The code in this section is provided for you**."
      ],
      "id": "1a635fbd-aa93-442d-85ae-b80229191517"
    },
    {
      "cell_type": "markdown",
      "metadata": {
        "id": "caf47c91-e861-41d6-8c5b-42d9322dc088"
      },
      "source": [
        "#### Read in data"
      ],
      "id": "caf47c91-e861-41d6-8c5b-42d9322dc088"
    },
    {
      "cell_type": "code",
      "execution_count": null,
      "metadata": {
        "id": "a76d7944-bab1-4bfc-9df2-63de258b6cf9"
      },
      "outputs": [],
      "source": [
        "!wget 'https://www.statlearning.com/s/Advertising.csv' -O 'Advertising.csv'"
      ],
      "id": "a76d7944-bab1-4bfc-9df2-63de258b6cf9"
    },
    {
      "cell_type": "code",
      "execution_count": null,
      "metadata": {
        "id": "3ba1e69f-e288-43d1-8b56-67164ead712c"
      },
      "outputs": [],
      "source": [
        "df  = pd.read_csv('Advertising.csv', index_col=0)\n",
        "df.head()"
      ],
      "id": "3ba1e69f-e288-43d1-8b56-67164ead712c"
    },
    {
      "cell_type": "markdown",
      "metadata": {
        "id": "567a08ee-5092-41f6-b217-c4e2b775de89"
      },
      "source": [
        "Note that in this dataset, the first column in the data file is the row label; that’s why we use `index_col=0` in the `read_csv` command. If we would omit that argument, then we would have an additional (unnamed) column in the dataset, containing the row number.\n",
        "\n",
        "(You can try removing the `index_col` argument and re-running the cell above, to see the effect and to understand why we used this argument.)"
      ],
      "id": "567a08ee-5092-41f6-b217-c4e2b775de89"
    },
    {
      "cell_type": "markdown",
      "metadata": {
        "id": "065f1731-b31a-4ef0-b22a-9686a73652dc"
      },
      "source": [
        "#### Split up data\n",
        "\n",
        "We will use 70% of the data for training and the remaining 30% as a held-out test set to evaluate the regression model on data *not* used for training."
      ],
      "id": "065f1731-b31a-4ef0-b22a-9686a73652dc"
    },
    {
      "cell_type": "code",
      "execution_count": null,
      "metadata": {
        "id": "8bcc7640-4140-4d7c-ba06-41e693994209"
      },
      "outputs": [],
      "source": [
        "train, test = train_test_split(df, test_size=0.3, random_state=9)"
      ],
      "id": "8bcc7640-4140-4d7c-ba06-41e693994209"
    },
    {
      "cell_type": "markdown",
      "metadata": {
        "id": "77c2e6f6-4267-4da7-9f11-bb808b77033e"
      },
      "source": [
        "We set the `random_state` to a constant so that every time you run this notebook, exactly the same data points will be assigned to test vs. training sets. This is helpful in the debugging stage."
      ],
      "id": "77c2e6f6-4267-4da7-9f11-bb808b77033e"
    },
    {
      "cell_type": "code",
      "execution_count": null,
      "metadata": {
        "id": "a7c27757-91ef-400e-b1cd-27d719eb2ae8"
      },
      "outputs": [],
      "source": [
        "train.info()"
      ],
      "id": "a7c27757-91ef-400e-b1cd-27d719eb2ae8"
    },
    {
      "cell_type": "code",
      "execution_count": null,
      "metadata": {
        "id": "bc4ee483-8260-4d59-ba55-f771549b19b9"
      },
      "outputs": [],
      "source": [
        "test.info()"
      ],
      "id": "bc4ee483-8260-4d59-ba55-f771549b19b9"
    },
    {
      "cell_type": "markdown",
      "metadata": {
        "id": "2c238150-e33c-4cac-8e64-5394aaa07abe"
      },
      "source": [
        "#### Visually inspect the data"
      ],
      "id": "2c238150-e33c-4cac-8e64-5394aaa07abe"
    },
    {
      "cell_type": "code",
      "execution_count": null,
      "metadata": {
        "id": "1eeda245-8d5d-429a-b123-07489f562da8"
      },
      "outputs": [],
      "source": [
        "sns.pairplot(train);"
      ],
      "id": "1eeda245-8d5d-429a-b123-07489f562da8"
    },
    {
      "cell_type": "markdown",
      "metadata": {
        "id": "0ac3c534-b445-452e-93b7-da105ae61031"
      },
      "source": [
        "The most important panels here are on the bottom row, where `sales` is on the vertical axis and the advertising budgets are on the horizontal axes.\n",
        "\n",
        "Looking at this row, we may identify some features that appear to be useful predictive features for `sales`, but we cannot *rule out* any features based on this visualization."
      ],
      "id": "0ac3c534-b445-452e-93b7-da105ae61031"
    },
    {
      "cell_type": "markdown",
      "metadata": {
        "id": "52a6ecc3-bf0a-489f-b9c9-35b2204f5085"
      },
      "source": [
        "**Comment on this plot**. What features appear to be related to the target variable? What features appear to be correlated with other features?"
      ],
      "id": "52a6ecc3-bf0a-489f-b9c9-35b2204f5085"
    },
    {
      "cell_type": "markdown",
      "metadata": {
        "id": "a09dddb5-7461-42ff-85bf-0086f4558eed"
      },
      "source": [
        "### 1. Fit simple linear regression models\n",
        "\n",
        "Use the training data to fit a simple linear regression to predict product sales, for each of three features: TV ad budget, radio ad budget, and newspaper ad budget.\n",
        "\n",
        "In other words, you will fit *three* regression models,\n",
        "\n",
        "-   a `reg_tv` model that uses `tv` as a feature to predict `sales`\n",
        "-   a `reg_radio` model that uses `radio` as a feature to predict `sales`\n",
        "-   a `reg_news` model that uses `newspaper` as a feature to predict `sales`"
      ],
      "id": "a09dddb5-7461-42ff-85bf-0086f4558eed"
    },
    {
      "cell_type": "markdown",
      "metadata": {
        "id": "f30cbfd4-c599-497a-bd9e-be37c466fa6e"
      },
      "source": [
        "#### Fit a simple linear regression\n",
        "\n",
        "The code for the first model, `reg_tv`, is provided for you. Fill in `reg_radio` and `reg_news`."
      ],
      "id": "f30cbfd4-c599-497a-bd9e-be37c466fa6e"
    },
    {
      "cell_type": "code",
      "execution_count": null,
      "metadata": {
        "id": "264fa3fd-f7b2-4aa0-88a9-f0f1dcd8bec7"
      },
      "outputs": [],
      "source": [
        "#grade (write your code in this cell and DO NOT DELETE THIS LINE)\n",
        "\n",
        "reg_tv    = LinearRegression().fit(train[['TV']], train['sales'])\n",
        "reg_radio = LinearRegression().fit(train[['radio']],train['sales'])\n",
        "reg_news  = LinearRegression().fit(train[['newspaper']], train['sales'])"
      ],
      "id": "264fa3fd-f7b2-4aa0-88a9-f0f1dcd8bec7"
    },
    {
      "cell_type": "markdown",
      "metadata": {
        "id": "05e148fb-084a-4717-b103-3641fa4479e7"
      },
      "source": [
        "#### Look at coefficients\n",
        "\n",
        "Look at the intercept $w_0$ and the slope coefficient $w_1$ of each model. The code for the first model, `reg_tv`, is provided for you."
      ],
      "id": "05e148fb-084a-4717-b103-3641fa4479e7"
    },
    {
      "cell_type": "code",
      "execution_count": null,
      "metadata": {
        "id": "ae49dbfb-efb6-4dd7-bb66-5f81e5d8b5ac"
      },
      "outputs": [],
      "source": [
        "print(\"TV       : \", reg_tv.coef_[0], reg_tv.intercept_)\n",
        "# print(\"Radio    : \",  ??? )\n",
        "# print(\"Newspaper: \",  ??? )"
      ],
      "id": "ae49dbfb-efb6-4dd7-bb66-5f81e5d8b5ac"
    },
    {
      "cell_type": "markdown",
      "metadata": {
        "id": "d28e6365-8047-4121-b2a4-3ad06b3095f5"
      },
      "source": [
        "#### Plot data and regression line\n",
        "\n",
        "The following cell will show a visualization of the training data and the regression model you fitted in each case.\n",
        "\n",
        "Note that the range of the horizontal axis in each case is very different, because the upper end of the range of spending on TV ads is much larger than e.g. on radio ads. Therefore, you can’t judge the relative slope just by looking at the visualization - you will have to refer back to the slop coefficients you printed above."
      ],
      "id": "d28e6365-8047-4121-b2a4-3ad06b3095f5"
    },
    {
      "cell_type": "code",
      "execution_count": null,
      "metadata": {
        "id": "7a548269-e80e-487b-9d2f-8562032d6c3a"
      },
      "outputs": [],
      "source": [
        "fig = plt.figure(figsize=(12,3))\n",
        "\n",
        "plt.subplot(1,3,1)\n",
        "sns.scatterplot(data=train, x=\"TV\", y=\"sales\");\n",
        "sns.lineplot(data=train, x=\"TV\", y=reg_tv.predict(train[['TV']]), color='red');\n",
        "\n",
        "plt.subplot(1,3,2)\n",
        "sns.scatterplot(data=train, x=\"radio\", y=\"sales\");\n",
        "sns.lineplot(data=train, x=\"radio\", y=reg_radio.predict(train[['radio']]), color='red');\n",
        "\n",
        "plt.subplot(1,3,3)\n",
        "sns.scatterplot(data=train, x=\"newspaper\", y=\"sales\");\n",
        "sns.lineplot(data=train, x=\"newspaper\", y=reg_news.predict(train[['newspaper']]), color='red');"
      ],
      "id": "7a548269-e80e-487b-9d2f-8562032d6c3a"
    },
    {
      "cell_type": "markdown",
      "metadata": {
        "id": "ef348dab-ba9a-4a81-94ae-7d709807957e"
      },
      "source": [
        "#### Compute R2, MSE for simple regression\n",
        "\n",
        "For each model, let’s get:\n",
        "\n",
        "-   the predictions on the training set: `y_pred_tr_tv`, `y_pred_tr_radio`, `y_pred_tr_news`\n",
        "-   the R2 score on the training set: `r2_tr_tv`, `r2_tr_radio`, `r2_tr_news`\n",
        "-   the MSE on the training set: `mse_tr_tv`, `mse_tr_radio`, `mse_tr_news`\n",
        "\n",
        "These are already provided for you, for the TV case."
      ],
      "id": "ef348dab-ba9a-4a81-94ae-7d709807957e"
    },
    {
      "cell_type": "code",
      "execution_count": null,
      "metadata": {
        "id": "4e8017a4-06ea-4fa3-b1fe-bd2b0f54ad43"
      },
      "outputs": [],
      "source": [
        "#grade (write your code in this cell and DO NOT DELETE THIS LINE)\n",
        "\n",
        "y_pred_tr_tv    = reg_tv.predict(train[['TV']])\n",
        "# y_pred_tr_radio = ...\n",
        "# y_pred_tr_news  = ..."
      ],
      "id": "4e8017a4-06ea-4fa3-b1fe-bd2b0f54ad43"
    },
    {
      "cell_type": "code",
      "execution_count": null,
      "metadata": {
        "id": "241fa3a1-fcb3-4e41-9a52-0f3054a6a96d"
      },
      "outputs": [],
      "source": [
        "#grade (write your code in this cell and DO NOT DELETE THIS LINE)\n",
        "\n",
        "r2_tr_tv    = metrics.r2_score(train['sales'], y_pred_tr_tv)\n",
        "# r2_tr_radio = ...\n",
        "# r2_tr_news  = ..."
      ],
      "id": "241fa3a1-fcb3-4e41-9a52-0f3054a6a96d"
    },
    {
      "cell_type": "code",
      "execution_count": null,
      "metadata": {
        "id": "12a06145-090e-4267-8ee6-e9bf079ccbe5"
      },
      "outputs": [],
      "source": [
        "print(\"TV       : \", r2_tr_tv)\n",
        "# print(\"Radio    : \", r2_tr_radio)\n",
        "# print(\"Newspaper: \", r2_tr_news)"
      ],
      "id": "12a06145-090e-4267-8ee6-e9bf079ccbe5"
    },
    {
      "cell_type": "code",
      "execution_count": null,
      "metadata": {
        "id": "1b168729-7c95-4d13-9ca9-8cac13cb6b56"
      },
      "outputs": [],
      "source": [
        "#grade (write your code in this cell and DO NOT DELETE THIS LINE)\n",
        "\n",
        "mse_tr_tv    = metrics.mean_squared_error(train['sales'], y_pred_tr_tv)\n",
        "# mse_tr_radio = ...\n",
        "# mse_tr_news  = ..."
      ],
      "id": "1b168729-7c95-4d13-9ca9-8cac13cb6b56"
    },
    {
      "cell_type": "code",
      "execution_count": null,
      "metadata": {
        "id": "531982f7-cd33-4584-90c8-a595efe39551"
      },
      "outputs": [],
      "source": [
        "print(\"TV       : \", mse_tr_tv)\n",
        "# print(\"Radio    : \", mse_tr_radio)\n",
        "# print(\"Newspaper: \", mse_tr_news)"
      ],
      "id": "531982f7-cd33-4584-90c8-a595efe39551"
    },
    {
      "cell_type": "markdown",
      "metadata": {
        "id": "68c4adca-51be-407e-ac64-d5bbd76ac1a8"
      },
      "source": [
        "### 2. Explore the residuals for the single linear regression models\n",
        "\n",
        "Computing MSE or R2 is not sufficient to diagnose a problem with a linear regression.\n",
        "\n",
        "In this section, you will create some additional visualizations of the training data as described below. to help you identify any problems with the regression."
      ],
      "id": "68c4adca-51be-407e-ac64-d5bbd76ac1a8"
    },
    {
      "cell_type": "markdown",
      "metadata": {
        "id": "b378eb26-384e-4d3e-be39-ba08ecc2b002"
      },
      "source": [
        "#### Compute residuals\n",
        "\n",
        "First, for each of the three regression models, you will compute the residuals ($y - \\hat{y}$).\n",
        "\n",
        "The code for the TV model is already provided for you."
      ],
      "id": "b378eb26-384e-4d3e-be39-ba08ecc2b002"
    },
    {
      "cell_type": "code",
      "execution_count": null,
      "metadata": {
        "id": "4f1674a6-6c3a-4c41-8200-d2b49ceabf5c"
      },
      "outputs": [],
      "source": [
        "#grade (write your code in this cell and DO NOT DELETE THIS LINE)\n",
        "\n",
        "residual_tv_tr = train['sales'] - reg_tv.predict(train[['TV']])\n",
        "# residual_news_tr = ...\n",
        "# residual_radio_tr = ..."
      ],
      "id": "4f1674a6-6c3a-4c41-8200-d2b49ceabf5c"
    },
    {
      "cell_type": "markdown",
      "metadata": {
        "id": "e5ba959e-235e-4ff3-a73f-838237e57174"
      },
      "source": [
        "#### Plot predicted vs. actual sales\n",
        "\n",
        "Next, you’ll create a plot of predicted sales vs. actual sales for each of the three models.\n",
        "\n",
        "You will organize these as three *subplots* in one row. In each subplot, for a different model,\n",
        "\n",
        "-   Create a scatter plot of predicted sales ($\\hat{y}$) on the vertical axis, and actual sales ($y$) on the horizontal axis.\n",
        "-   Make sure both axes use the same scale (the range of the vertical axis should be the same as the range of the horizontal axis) and that all three subplots use the same scale. Since the units of `sales` and predicted `sales` should be the same, if we use the same scale we can make direct comparisons based on the appearance of the plots. Make sure the scale is appropriate (does not exclude data, and does not make it difficult to see the data due to excessive whitespace). Also, the plot area for each subplot should be square-shaped (similar height and width) in order to make the relevant trend easier to see.\n",
        "-   Label each axes, and each plot.\n",
        "\n",
        "Code is provided for you for the TV model - add subplots to the figure to also show the radio model and the newspaper model."
      ],
      "id": "e5ba959e-235e-4ff3-a73f-838237e57174"
    },
    {
      "cell_type": "code",
      "execution_count": null,
      "metadata": {
        "id": "7d30c0fe-7f20-4b6e-ad7e-f0c73d3c2a83"
      },
      "outputs": [],
      "source": [
        "\n",
        "fig = plt.figure(figsize=(14,4))\n",
        "\n",
        "plt.subplot(1,3,1)\n",
        "sns.scatterplot(data=train, x=\"sales\", y=reg_tv.predict(train[['TV']]));\n",
        "plt.ylabel('Predicted sales');\n",
        "plt.ylim(0,30);\n",
        "plt.xlim(0,30);\n",
        "plt.title(\"Regression on TV\");\n"
      ],
      "id": "7d30c0fe-7f20-4b6e-ad7e-f0c73d3c2a83"
    },
    {
      "cell_type": "markdown",
      "metadata": {
        "id": "c11dd5c5-8103-4005-aa8f-187197d13723"
      },
      "source": [
        "**Comment on this plot**. What would you expect this plot to look like for a model that explains the data well? What does the plot tell you about your models in this specific case?"
      ],
      "id": "c11dd5c5-8103-4005-aa8f-187197d13723"
    },
    {
      "cell_type": "markdown",
      "metadata": {
        "id": "78c20e45-a679-43dc-b276-d4524965ae03"
      },
      "source": [
        "#### Plot residuals vs. actual sales\n",
        "\n",
        "Next, you’ll create a plot of residuals vs. actual sales for each of the three models.\n",
        "\n",
        "You will organize these as three *subplots* in one row. In each subplot, for a different model,\n",
        "\n",
        "-   Create a scatter plot with the residuals ($y - \\hat{y}$) on the vertical axis, and actual sales ($y$) on the horizontal axis.\n",
        "-   Use the same vertical scale for all three subplots, and the same horizontal scale for all three subplots (but the vertical scale and the horizontal scale will not be the same as one another!). Make sure the scale is appropriate (does not exclude data, and does not make it difficult to see the data due to excessive whitespace). Also, the plot area should be square-shaped (similar height and width) in order to make the relevant trend easier to see.\n",
        "-   Label each axes, and each plot.\n",
        "\n",
        "Code is provided for you for the TV model - add subplots to the figure to also show the radio model and the newspaper model."
      ],
      "id": "78c20e45-a679-43dc-b276-d4524965ae03"
    },
    {
      "cell_type": "code",
      "execution_count": null,
      "metadata": {
        "id": "89c970ba-b74e-49ce-aeee-2e1a9205b70d"
      },
      "outputs": [],
      "source": [
        "\n",
        "fig = plt.figure(figsize=(14,4))\n",
        "\n",
        "plt.subplot(1,3,1)\n",
        "sns.scatterplot(x=train['sales'], y=residual_tv_tr);\n",
        "plt.xlabel('Actual Sales')\n",
        "plt.ylabel('Residual');\n",
        "plt.ylim(-20, 20)\n",
        "plt.title(\"Regression on TV\");\n"
      ],
      "id": "89c970ba-b74e-49ce-aeee-2e1a9205b70d"
    },
    {
      "cell_type": "markdown",
      "metadata": {
        "id": "08bf36c5-0443-4715-b398-186e9b236e02"
      },
      "source": [
        "**Comment on this plot**. Is there a pattern in the residuals (and if so, what might it indicate), or do they appear to have no pattern with respect to actual sales?"
      ],
      "id": "08bf36c5-0443-4715-b398-186e9b236e02"
    },
    {
      "cell_type": "markdown",
      "metadata": {
        "id": "c353a6e5-0942-4f98-81a4-74380fbdf317"
      },
      "source": [
        "#### Plot residuals vs. features\n",
        "\n",
        "Finally, you’ll create a plot of residuals vs. features, for each combination of “model” and “feature” (9 subplots total).\n",
        "\n",
        "In each column, for a different model,\n",
        "\n",
        "-   create a scatter plot with the residuals ($y - \\hat{y}$) on the vertical axis, and the feature ($x$) on the horizontal axis, for each feature.\n",
        "-   Use the same vertical scale for all subplots (but the horizontal scale will depend on the feature, and will be different for each feature! The upper end of the TV ad spending range is different from the radio ad spending range.) Make sure the scale is appropriate (does not exclude data, and does not make it difficult to see the data due to excessive whitespace). Also, the plot area for each subplot should be square-shaped (similar height and width) in order to make the relevant trend easier to see.\n",
        "-   Make sure to clearly label each axis, and also label each subplot with a title that indicates which regression model it uses.\n",
        "\n",
        "Code is provided for you for the TV model - add subplots to the figure to also show the radio model and the newspaper model."
      ],
      "id": "c353a6e5-0942-4f98-81a4-74380fbdf317"
    },
    {
      "cell_type": "code",
      "execution_count": null,
      "metadata": {
        "id": "4e890c5c-9b23-4819-9224-ff1b7f6d66ab"
      },
      "outputs": [],
      "source": [
        "\n",
        "plt.figure(figsize=(13,12))\n",
        "\n",
        "plt.subplot(3,3,1)\n",
        "sns.scatterplot(x=train['TV'], y=residual_tv_tr);\n",
        "plt.xlabel('TV ad $')\n",
        "plt.ylabel('Residual');\n",
        "plt.ylim(-20, 20);\n",
        "plt.title(\"Regression on TV\");\n",
        "\n",
        "plt.subplot(3,3,4)\n",
        "sns.scatterplot(x=train['radio'], y=residual_tv_tr);\n",
        "plt.xlabel('Radio ad $')\n",
        "plt.ylabel('Residual');\n",
        "plt.ylim(-20, 20);\n",
        "\n",
        "plt.subplot(3,3,7)\n",
        "sns.scatterplot(x=train['newspaper'], y=residual_tv_tr);\n",
        "plt.xlabel('Newspaper ad $')\n",
        "plt.ylabel('Residual');\n",
        "plt.ylim(-20, 20);\n",
        "\n",
        "plt.tight_layout();"
      ],
      "id": "4e890c5c-9b23-4819-9224-ff1b7f6d66ab"
    },
    {
      "cell_type": "markdown",
      "metadata": {
        "id": "ea80ed15-97a9-4fa6-b3cf-bc663496cc6e"
      },
      "source": [
        "**Comment on this plot**. Is there a pattern in the residuals (and if so, what might it indicate), or do they appear to have no pattern with respect to each of the three features?"
      ],
      "id": "ea80ed15-97a9-4fa6-b3cf-bc663496cc6e"
    },
    {
      "cell_type": "markdown",
      "metadata": {
        "id": "78fb5bb3-c9a0-4fe8-9801-f4cb84f4ee43"
      },
      "source": [
        "### 3. Try a multiple linear regression\n",
        "\n",
        "Next, you will fit a multiple linear regression to predict product sales, using all three features - TV ad budget, radio ad budget, and newspaper ad budget - to train *one* model.\n",
        "\n",
        "The code to fit the model and look at the coefficients is provided for you."
      ],
      "id": "78fb5bb3-c9a0-4fe8-9801-f4cb84f4ee43"
    },
    {
      "cell_type": "markdown",
      "metadata": {
        "id": "688e185a-cfbc-4fae-be9f-a44e2fabf57d"
      },
      "source": [
        "#### Fit a multiple linear regression"
      ],
      "id": "688e185a-cfbc-4fae-be9f-a44e2fabf57d"
    },
    {
      "cell_type": "code",
      "execution_count": null,
      "metadata": {
        "id": "82913aa9-461c-4e3f-bff2-e3e358db6327"
      },
      "outputs": [],
      "source": [
        "#grade (write your code in this cell and DO NOT DELETE THIS LINE)\n",
        "\n",
        "reg_multi = LinearRegression().fit(train[['TV', 'radio', 'newspaper']], train['sales'])"
      ],
      "id": "82913aa9-461c-4e3f-bff2-e3e358db6327"
    },
    {
      "cell_type": "markdown",
      "metadata": {
        "id": "20d96c8e-d715-4bac-931f-58ff8087c305"
      },
      "source": [
        "#### Look at coefficients"
      ],
      "id": "20d96c8e-d715-4bac-931f-58ff8087c305"
    },
    {
      "cell_type": "code",
      "execution_count": null,
      "metadata": {
        "id": "8510f780-39fb-48e8-9fd7-fb9c7c5e8bd5"
      },
      "outputs": [],
      "source": [
        "print(\"Coefficients (TV, radio, newspaper):\", reg_multi.coef_)\n",
        "print(\"Intercept: \", reg_multi.intercept_)"
      ],
      "id": "8510f780-39fb-48e8-9fd7-fb9c7c5e8bd5"
    },
    {
      "cell_type": "markdown",
      "metadata": {
        "id": "81958b55-8c93-4f95-96fd-bdaec26d9efd"
      },
      "source": [
        "#### Compute R2, MSE for multiple regression\n",
        "\n",
        "Then, let’s get:\n",
        "\n",
        "-   the predictions on the training set: `y_pred_tr_multi`\n",
        "-   the R2 score on the training set: `r2_tr_multi`\n",
        "-   the MSE on the training set: `mse_tr_multi`"
      ],
      "id": "81958b55-8c93-4f95-96fd-bdaec26d9efd"
    },
    {
      "cell_type": "code",
      "execution_count": null,
      "metadata": {
        "id": "4adc5856-df5d-4690-9b46-1900edf54a02"
      },
      "outputs": [],
      "source": [
        "#grade (write your code in this cell and DO NOT DELETE THIS LINE)\n",
        "\n",
        "# y_pred_tr_multi = ...\n",
        "# r2_tr_multi  = ...\n",
        "# mse_tr_multi = ..."
      ],
      "id": "4adc5856-df5d-4690-9b46-1900edf54a02"
    },
    {
      "cell_type": "code",
      "execution_count": null,
      "metadata": {
        "id": "024cf0fc-500c-40ca-9419-4ca5845d4847"
      },
      "outputs": [],
      "source": [
        "# print(\"Multiple regression R2:  \", r2_tr_multi)\n",
        "# print(\"Multiple regression MSE: \", mse_tr_multi)\n"
      ],
      "id": "024cf0fc-500c-40ca-9419-4ca5845d4847"
    },
    {
      "cell_type": "markdown",
      "metadata": {
        "id": "9c42750b-5be6-453a-a583-be532243a739"
      },
      "source": [
        "#### Compute residuals\n",
        "\n",
        "Compute the residuals ($y - \\hat{y}$)."
      ],
      "id": "9c42750b-5be6-453a-a583-be532243a739"
    },
    {
      "cell_type": "code",
      "execution_count": null,
      "metadata": {
        "id": "43d18ada-8032-43e0-9fa8-b8fcab5b8390"
      },
      "outputs": [],
      "source": [
        "#grade (write your code in this cell and DO NOT DELETE THIS LINE)\n",
        "\n",
        "# residual_multi_tr = ..."
      ],
      "id": "43d18ada-8032-43e0-9fa8-b8fcab5b8390"
    },
    {
      "cell_type": "markdown",
      "metadata": {
        "id": "ec0cadac-93fd-4b94-9a61-17b7c1f7b5f3"
      },
      "source": [
        "#### Plot predicted vs. actual sales\n",
        "\n",
        "Next, plot predicted sales vs. actual sales for the multiple regression model.\n",
        "\n",
        "-   Create a scatter plot of predicted sales ($\\hat{y}$) on the vertical axis, and actual sales ($y$) on the horizontal axis.\n",
        "-   Make sure both axes use the same scale (the range of the vertical axis should be the same as the range of the horizontal axis). Make sure the scale is appropriate (does not exclude data, and does not make it difficult to see the data due to excessive whitespace). Also, the plot area should be square-shaped (similar height and width) in order to make the relevant trend easier to see.\n",
        "-   Label each axes."
      ],
      "id": "ec0cadac-93fd-4b94-9a61-17b7c1f7b5f3"
    },
    {
      "cell_type": "code",
      "execution_count": null,
      "metadata": {
        "id": "cd86c494-cb39-4927-bdde-3613ca0111db"
      },
      "outputs": [],
      "source": [
        "# plot\n"
      ],
      "id": "cd86c494-cb39-4927-bdde-3613ca0111db"
    },
    {
      "cell_type": "markdown",
      "metadata": {
        "id": "2420ac8d-369a-497c-966c-b4f907ae2c5d"
      },
      "source": [
        "**Comment on this plot**. What would you expect this plot to look like for a model that explains the data well? What does the plot tell you about your model in this specific case?"
      ],
      "id": "2420ac8d-369a-497c-966c-b4f907ae2c5d"
    },
    {
      "cell_type": "markdown",
      "metadata": {
        "id": "bf973aea-088b-4ee2-9254-e5f43817b50e"
      },
      "source": [
        "#### Plot residuals vs. actual sales\n",
        "\n",
        "Next, create a plot of residuals vs. actual sales for the multiple regression model.\n",
        "\n",
        "-   Create a scatter plot with the residuals ($y - \\hat{y}$) on the vertical axis, and actual sales ($y$) on the horizontal axis.\n",
        "-   Make sure the scale is appropriate (does not exclude data, and does not make it difficult to see the data due to excessive whitespace). Also, the plot area should be square-shaped (similar height and width) in order to make the relevant trend easier to see.\n",
        "-   Label each axes, and each plot."
      ],
      "id": "bf973aea-088b-4ee2-9254-e5f43817b50e"
    },
    {
      "cell_type": "code",
      "execution_count": null,
      "metadata": {
        "id": "f88967a4-690f-4db7-b6dc-6897e8345d26"
      },
      "outputs": [],
      "source": [
        "# plot\n"
      ],
      "id": "f88967a4-690f-4db7-b6dc-6897e8345d26"
    },
    {
      "cell_type": "markdown",
      "metadata": {
        "id": "c8bdf649-1cbe-463d-b816-d09e25117c26"
      },
      "source": [
        "**Comment on this plot**. Is there a pattern in the residuals (and if so, what might it indicate), or do they appear to have no pattern with respect to actual sales?"
      ],
      "id": "c8bdf649-1cbe-463d-b816-d09e25117c26"
    },
    {
      "cell_type": "markdown",
      "metadata": {
        "id": "d68e3261-290e-4861-95c0-ae14bbd0f4bf"
      },
      "source": [
        "#### Plot residuals vs. features\n",
        "\n",
        "Finally, you’ll create a plot of residuals vs. features, for each of the three features, for your multiple regression model. Put your three subplots in one row.\n",
        "\n",
        "In each subplot,\n",
        "\n",
        "-   create a scatter plot with the residuals ($y - \\hat{y}$) on the vertical axis, and the feature ($x$) on the horizontal axis.\n",
        "-   Use the same vertical scale for all subplots (but the horizontal scale will depend on the feature! The upper end of the TV ad spending range is different from the radio ad spending range.) Make sure the scale is appropriate (does not exclude data, and does not make it difficult to see the data due to excessive whitespace). Also, the plot area for each subplot should be square-shaped (similar height and width) in order to make the relevant trend easier to see.\n",
        "-   Make sure to clearly label each axis, and also label each subplot with a title that indicates which regression model it uses."
      ],
      "id": "d68e3261-290e-4861-95c0-ae14bbd0f4bf"
    },
    {
      "cell_type": "code",
      "execution_count": null,
      "metadata": {
        "id": "5e59815a-dac6-4c8f-99d7-a98467de92db"
      },
      "outputs": [],
      "source": [
        "# plot\n"
      ],
      "id": "5e59815a-dac6-4c8f-99d7-a98467de92db"
    },
    {
      "cell_type": "markdown",
      "metadata": {
        "id": "e9f90976-7db7-4bc9-bbc6-367c38ecee64"
      },
      "source": [
        "**Comment on this plot**. Is there a pattern in the residuals (and if so, what might it indicate), or do they appear to have no pattern with respect to each of the three features?"
      ],
      "id": "e9f90976-7db7-4bc9-bbc6-367c38ecee64"
    },
    {
      "cell_type": "markdown",
      "metadata": {
        "id": "f2be9934-268b-4c81-a745-da4a0b5aa382"
      },
      "source": [
        "### 4. Decomposing the multiple regression with FWL"
      ],
      "id": "f2be9934-268b-4c81-a745-da4a0b5aa382"
    },
    {
      "cell_type": "markdown",
      "metadata": {
        "id": "c6882d1d-6e0a-462f-9c3c-d02721a4c917"
      },
      "source": [
        "In the previous section, you may have noticed that the coefficient for a given feature - say, newspaper - is different\n",
        "\n",
        "-   in the simple linear regression on newspaper\n",
        "-   and in the multiple regression which includes newspaper as well as other features.\n",
        "\n",
        "In particular, in the simple linear regression we estimated that newspaper ad spending was associated with a positive effect on sales, similar in magnitude to TV ad spending. Now, the newspaper ads are estimated as having an association much closer to zero.\n",
        "\n",
        "This is because:\n",
        "\n",
        "-   In the simple regression case, the coefficent for newspaper ads represents the effect of an increase in newspaper advertising.\n",
        "-   In the multiple regression case, the coefficient for newspaper ads represents the effect of an increase in newspaper advertising **while holding TV and radio advertising constant**.\n",
        "\n",
        "It turns out that in the simple linear regression on newspaper ad budget, the regression was “learning” the effect of a feature that was correlated with newspaper ad budget, not the effect of newspaper ad budget itself.\n",
        "\n",
        "We observe that there is a correlation between newspaper ad budget and radio ad budget, and a smaller correlation between newspaper ad budget and TV ad budget. (This is logical; if an ad campaign spends a lot of money on one medium, they are likely to spend a lot on others as well.)"
      ],
      "id": "c6882d1d-6e0a-462f-9c3c-d02721a4c917"
    },
    {
      "cell_type": "markdown",
      "metadata": {
        "id": "c30fe3ad-977e-478f-9453-8aff6fdd0a1a"
      },
      "source": [
        "You can see this pairwise correlation in the following table."
      ],
      "id": "c30fe3ad-977e-478f-9453-8aff6fdd0a1a"
    },
    {
      "cell_type": "code",
      "execution_count": null,
      "metadata": {
        "id": "86eb58b8-a7a8-4632-ac6c-c5779e17ee1a"
      },
      "outputs": [],
      "source": [
        "train[['TV', 'radio', 'newspaper']].corr()"
      ],
      "id": "86eb58b8-a7a8-4632-ac6c-c5779e17ee1a"
    },
    {
      "cell_type": "markdown",
      "metadata": {
        "id": "1a75b42a-600c-497f-ae0f-c5731121019b"
      },
      "source": [
        "In the simple regression model, sales appear to increase when newspaper ad spending increases. However, this is because newspaper ad spending and other types of ad spending are correlated, so when newspaper ad spending increases the other types of ad spending also increase.\n",
        "\n",
        "From the multiple regression model, we can see that when newspaper ad spending increases and other types of ad spending *do not* also increase, sales do not increase."
      ],
      "id": "1a75b42a-600c-497f-ae0f-c5731121019b"
    },
    {
      "cell_type": "markdown",
      "metadata": {
        "id": "0c8a9b80-f6f4-4fc6-ad32-41b8ecdaebd1"
      },
      "source": [
        "In this section, we will explore this further using the Frisch-Waugh-Lovell (FWL) theorem. This theorem will help us understand in greater depth what the coefficient in the multiple regression represents, when there are correlated features included in the regression."
      ],
      "id": "0c8a9b80-f6f4-4fc6-ad32-41b8ecdaebd1"
    },
    {
      "cell_type": "markdown",
      "metadata": {
        "id": "1ce25361-7098-42c5-bc33-683ee8a45186"
      },
      "source": [
        "#### Background: Frisch-Waugh-Lovell (FWL) theorem\n",
        "\n",
        "Suppose we have a linear model with $k$ features:\n",
        "\n",
        "$$\\hat{y} = w_0 + w_1 x_1 + \\ldots + w_k x_k + e$$\n",
        "\n",
        "and residual $e = y - \\hat{y}$, which is the part of $y$ that is not explained by the regression model.\n",
        "\n",
        "The FWL theorem tells us that we can get $w_j$, the association between $x_j$ and $y$ *while holding other features constant*, with the following procedure to split up our multiple linear regression into *orthogonal* components - having no correlation."
      ],
      "id": "1ce25361-7098-42c5-bc33-683ee8a45186"
    },
    {
      "cell_type": "markdown",
      "metadata": {
        "id": "3c340844-0d39-45fc-9b55-20199f003a60"
      },
      "source": [
        "##### Step 1\n",
        "\n",
        "First, we will split the feature $x_j$ into (1) the information that is already present in other features, and (2) the information that is not already in other features.\n",
        "\n",
        "How do you split the feature $x_j$ into parts that are correlated and uncorrelated with other features? With another regression model! We will train a model using all features *expect* $x_j$ to *predict* $x_j$, like this:\n",
        "\n",
        "$$\\hat{x_j} = w_0^{x_j} + \\sum_{k \\neq j} w^{x_{j}}_{k}x_{k}$$\n",
        "\n",
        "where\n",
        "\n",
        "-   the superscript $x_j$ on the coefficients denotes that these are the coefficients for the model to predict $x_j$\n",
        "-   $\\hat{x_j}$ is the estimate of $x_j$ according to this model, and this is the part of $x_j$ whose information is already in the other features. (This is the part that is correlated with other features.)\n",
        "-   the residual of this model, $\\epsilon^{x_{j}} = x_j - \\hat{x_j}$, is the part of $x_j$ whose information is *not* already in the other features. (This is the part that is uncorrelated with other features.)"
      ],
      "id": "3c340844-0d39-45fc-9b55-20199f003a60"
    },
    {
      "cell_type": "markdown",
      "metadata": {
        "id": "f66c6f1b-c3aa-4ed7-9b08-62fb45fedb3a"
      },
      "source": [
        "##### Step 2\n",
        "\n",
        "Then, we’ll split the target variable $y$ into (1) the part that can be predicted using the other features *without* $x_j$, and (2) the part that cannot be predicted without $x_j$. Of course, we will do this in a similar way, with another regression model:\n",
        "\n",
        "$$\\hat{y} = w_0^{y} + \\sum_{k \\neq j} w^{y}_{k}x_{k}$$\n",
        "\n",
        "where\n",
        "\n",
        "-   the superscript $y$ on the coefficients denotes that these are the coefficients for the model to predict $y$, but without $x_j$\n",
        "-   the residual of this model, $\\epsilon^{y} = y - \\hat{y}$, is the part of $y$ that cannot be predicted without $x_j$."
      ],
      "id": "f66c6f1b-c3aa-4ed7-9b08-62fb45fedb3a"
    },
    {
      "cell_type": "markdown",
      "metadata": {
        "id": "cad0c925-013e-4260-b9c1-34a11ee2936f"
      },
      "source": [
        "##### Step 3\n",
        "\n",
        "This is the really interesting part! The FWL tells us that we can now train a model to:\n",
        "\n",
        "-   predict $\\epsilon^y$, the part of $y$ that is *not* predicted by the regression on features excluding $x_j$\n",
        "-   as a simple regression on feature $\\epsilon^{x_j}$, the part of $x_j$ that is *not* already “in” the other features\n",
        "\n",
        "$$\\epsilon^{y} = {w}^{*}_{j}\\epsilon^{x_j} + \\epsilon^{*}$$\n",
        "\n",
        "and that\n",
        "\n",
        "-   the coefficient $w^{*}_{j}$ - which tells us the association between “the parts of $x_j$ not in the other features” and “the parts of $y$ not predicted by the other features” - is going to be the **same** as $w_j$ in the multiple regression model we fitted earlier!\n",
        "-   and the residuals $\\epsilon^{*}$ will be the same as the residuals of the multiple regression model we fitted earlier.\n",
        "\n",
        "This makes it clear that in a multiple regression model, the coefficient of the feature $x_j$ - which tells us the association between $x_j$ and $y$ when other features are held constant - tells us about how much of the variance in $y$ is explained by $x_j$ *independent of the other features in the model*."
      ],
      "id": "cad0c925-013e-4260-b9c1-34a11ee2936f"
    },
    {
      "cell_type": "markdown",
      "metadata": {
        "id": "3c0e5b7f-7e83-49fd-bb81-fa95db2084c4"
      },
      "source": [
        "#### Apply FWL to the “newspaper” feature\n",
        "\n",
        "Let us try it now on the `newspaper` feature. We noticed earlier that `newspaper` had a large positive coefficient in the simple regression model, but not in the multiple regression model. We also noticed that newspaper ad spending was strongly correlated with radio ad spending.\n",
        "\n",
        "Note: we will use the training data *only* throughout this section."
      ],
      "id": "3c0e5b7f-7e83-49fd-bb81-fa95db2084c4"
    },
    {
      "cell_type": "markdown",
      "metadata": {
        "id": "27d7d318-dfeb-49d4-928f-1c79ac0385c9"
      },
      "source": [
        "##### Step 1\n",
        "\n",
        "First, use the *other* features (`TV` and `radio`) to train a model `reg_news_x` to “predict” `newspaper`.\n",
        "\n",
        "-   The prediction of the model tells us: how much of the “signal” in the `newspaper` feature is already present in the other features?\n",
        "-   The residual of the model tells us: how much of the “signal” in the `newspaper` feature is *not* present in the other features? The “model” cannot predict this part of `newspaper` using the `TV` and `radio` features.\n",
        "\n",
        "Save the model prediction on the training data in `xhat_news_x` and the residual for the training data in `residual_news_x`."
      ],
      "id": "27d7d318-dfeb-49d4-928f-1c79ac0385c9"
    },
    {
      "cell_type": "code",
      "execution_count": null,
      "metadata": {
        "id": "452639a8-d3ba-403d-990b-f5d828b92fd1"
      },
      "outputs": [],
      "source": [
        "#grade (write your code in this cell and DO NOT DELETE THIS LINE)\n",
        "\n",
        "# reg_news_x  ...\n",
        "# xhat_news_x = ...\n",
        "# residual_news_x = ..."
      ],
      "id": "452639a8-d3ba-403d-990b-f5d828b92fd1"
    },
    {
      "cell_type": "markdown",
      "metadata": {
        "id": "3c61b944-fb36-435a-80af-c9cbf7291182"
      },
      "source": [
        "We can see that the residual is the part of `newspaper` that is uncorrelated with `radio` and `TV`."
      ],
      "id": "3c61b944-fb36-435a-80af-c9cbf7291182"
    },
    {
      "cell_type": "code",
      "execution_count": null,
      "metadata": {
        "id": "f47979b5-5022-4d87-b36f-996ef1e4f12d"
      },
      "outputs": [],
      "source": [
        "pd.concat([train['TV'], train['radio'], pd.Series(residual_news_x, name='residual')], axis=1).corr()"
      ],
      "id": "f47979b5-5022-4d87-b36f-996ef1e4f12d"
    },
    {
      "cell_type": "markdown",
      "metadata": {
        "id": "76e9eb35-dc4c-48cf-bc8a-14e3fec638c7"
      },
      "source": [
        "while the prediction of that “model” is, of course, correlated with the features used for prediction - it is a linear combination of those features. (The pairwise correlation is not ideal for measuring this, since $w_j x_j$ appears as noise with respect to an uncorrelated feature $x_k$, but we can get some idea.)"
      ],
      "id": "76e9eb35-dc4c-48cf-bc8a-14e3fec638c7"
    },
    {
      "cell_type": "code",
      "execution_count": null,
      "metadata": {
        "id": "e2d7a352-61eb-499e-8d30-87e05e1c7dba"
      },
      "outputs": [],
      "source": [
        "pd.concat([train['TV'], train['radio'], pd.Series(xhat_news_x, name='prediction')], axis=1).corr()"
      ],
      "id": "e2d7a352-61eb-499e-8d30-87e05e1c7dba"
    },
    {
      "cell_type": "markdown",
      "metadata": {
        "id": "55678f6c-265c-471a-affe-d3f307c20d65"
      },
      "source": [
        "You can think of these two “components” of the “newspaper” feature as:\n",
        "\n",
        "-   the part of the “newspaper” feature that reflects spending specifically on the newspaper medium. (the residual)\n",
        "-   and the part that reflects the “spendiness” of the ad campaign, which is also reflected in TV and radio. (the prediction)"
      ],
      "id": "55678f6c-265c-471a-affe-d3f307c20d65"
    },
    {
      "cell_type": "markdown",
      "metadata": {
        "id": "dcc8439c-2acb-4da6-be2c-9db4edc1a5ef"
      },
      "source": [
        "Let’s visualize these relationships. In the next cell, we will create a 2x2 grid of subplots:\n",
        "\n",
        "-   On the top row, we use seaborn’s `regplot` to put `xhat_news_x` feature on the vertical axis, and the `TV` and `radio` features, respectively, on the horizontal axis. The `regplot` is a scatter plot with a simple linear regression line overlaid on top, to make it easier to see an association. Note that the horizontal scale of each subplot will be different, since the range of spending on TV ads is not the same as the range of spending on radio ads.\n",
        "-   On the bottom row, we will do the same, but with `residual_news_x` on the vertical axis."
      ],
      "id": "dcc8439c-2acb-4da6-be2c-9db4edc1a5ef"
    },
    {
      "cell_type": "code",
      "execution_count": null,
      "metadata": {
        "id": "94694aac-5309-49c0-95fb-b69dec58c149"
      },
      "outputs": [],
      "source": [
        "plt.figure(figsize=(6,6))\n",
        "\n",
        "plt.subplot(2,2,1)\n",
        "sns.regplot(x=train['TV'], y=xhat_news_x);\n",
        "plt.xlabel('TV ad $')\n",
        "plt.ylabel('$\\hat{x_j}$');\n",
        "\n",
        "\n",
        "plt.subplot(2,2,2)\n",
        "sns.regplot(x=train['radio'], y=xhat_news_x);\n",
        "plt.xlabel('Radio ad $')\n",
        "plt.ylabel('$\\hat{x_j}$');\n",
        "\n",
        "plt.subplot(2,2,3)\n",
        "sns.regplot(x=train['TV'], y=residual_news_x);\n",
        "plt.xlabel('TV ad $')\n",
        "plt.ylabel('$\\epsilon^{x_j}$');\n",
        "\n",
        "plt.subplot(2,2,4)\n",
        "sns.regplot(x=train['radio'], y=residual_news_x);\n",
        "plt.xlabel('Radio ad $')\n",
        "plt.ylabel('$\\epsilon^{x_j}$');\n",
        "\n",
        "plt.tight_layout();"
      ],
      "id": "94694aac-5309-49c0-95fb-b69dec58c149"
    },
    {
      "cell_type": "markdown",
      "metadata": {
        "id": "bb89c6e8-2c66-4596-8b69-ef6021307980"
      },
      "source": [
        "**Comment on the results**.\n",
        "\n",
        "-   What do you notice about the relationship between $\\hat{x_{j}}$ (`newspaper` ad spending) and the other features? To what extent can `newspaper` ad spending be “predicted” by the other features?\n",
        "-   You should observe that there is no relationship between $\\epsilon^{x_{j}}$ (the residual of the model that is “trained to predict `newspaper`”) and the other features. This residual represents what “part” of `newspaper` ad spending?"
      ],
      "id": "bb89c6e8-2c66-4596-8b69-ef6021307980"
    },
    {
      "cell_type": "markdown",
      "metadata": {
        "id": "022061fb-f11f-4b0c-bb1d-fb71ac52bf14"
      },
      "source": [
        "##### Step 2\n",
        "\n",
        "Now, train a model `reg_news_y` to predict “sales” *without* `newspaper`, using only `TV` and `radio` features. Save the prediction of this model on the training data in `yhat_news_y`, and the residuals of this model for the training data in `residual_news_y`."
      ],
      "id": "022061fb-f11f-4b0c-bb1d-fb71ac52bf14"
    },
    {
      "cell_type": "code",
      "execution_count": null,
      "metadata": {
        "id": "90da50b4-77bf-4cca-b607-342294b04f15"
      },
      "outputs": [],
      "source": [
        "#grade (write your code in this cell and DO NOT DELETE THIS LINE)\n",
        "\n",
        "# reg_news_y  = ...\n",
        "# yhat_news_y = ...\n",
        "# residual_news_y = ..."
      ],
      "id": "90da50b4-77bf-4cca-b607-342294b04f15"
    },
    {
      "cell_type": "markdown",
      "metadata": {
        "id": "aa592ff8-99be-4381-a3b4-91cedc9f5daf"
      },
      "source": [
        "and, we’ll use this to generate a similar plot -"
      ],
      "id": "aa592ff8-99be-4381-a3b4-91cedc9f5daf"
    },
    {
      "cell_type": "code",
      "execution_count": null,
      "metadata": {
        "id": "d3e06138-5e47-4d00-922f-3a3a2e6a7a67"
      },
      "outputs": [],
      "source": [
        "plt.figure(figsize=(6,6))\n",
        "\n",
        "plt.subplot(2,2,1)\n",
        "sns.regplot(x=train['TV'], y=yhat_news_y);\n",
        "plt.xlabel('TV ad $')\n",
        "plt.ylabel('$\\hat{y}$');\n",
        "\n",
        "\n",
        "plt.subplot(2,2,2)\n",
        "sns.regplot(x=train['radio'], y=yhat_news_y);\n",
        "plt.xlabel('Radio ad $')\n",
        "plt.ylabel('$\\hat{y}$');\n",
        "\n",
        "plt.subplot(2,2,3)\n",
        "sns.regplot(x=train['TV'], y=residual_news_y);\n",
        "plt.xlabel('TV ad $')\n",
        "plt.ylabel('$\\epsilon^{y}$');\n",
        "\n",
        "plt.subplot(2,2,4)\n",
        "sns.regplot(x=train['radio'], y=residual_news_y);\n",
        "plt.xlabel('Radio ad $')\n",
        "plt.ylabel('$\\epsilon^{y}$');\n",
        "\n",
        "plt.tight_layout();"
      ],
      "id": "d3e06138-5e47-4d00-922f-3a3a2e6a7a67"
    },
    {
      "cell_type": "markdown",
      "metadata": {
        "id": "bc6f0468-057b-484d-ab36-fbfa75fd7473"
      },
      "source": [
        "Once again, you can think of these two “components” of `sales` as:\n",
        "\n",
        "-   the part of `sales` that is not predicted by the model on `TV` and `radio`. (the residual)\n",
        "-   and the part that *is* predicted by the model on `TV` and `radio`. (the prediction)"
      ],
      "id": "bc6f0468-057b-484d-ab36-fbfa75fd7473"
    },
    {
      "cell_type": "markdown",
      "metadata": {
        "id": "25d9bfe6-3757-4ee4-b52d-38961a9ed790"
      },
      "source": [
        "**Comment on the results**.\n",
        "\n",
        "-   What do you notice about the relationship between $\\hat{y}$ (`sales`) and the other (not-$x_j$) features (`tv` ad spending, `radio` ad spending)?\n",
        "-   The residual $\\epsilon^{y}$ represents the part of $\\hat{y}$ (`sales`) that is still “unexplained” even after considering the linear effect of which features?"
      ],
      "id": "25d9bfe6-3757-4ee4-b52d-38961a9ed790"
    },
    {
      "cell_type": "markdown",
      "metadata": {
        "id": "962690c0-a90c-40f1-921a-0a3a1198f8fc"
      },
      "source": [
        "##### Step 3\n",
        "\n",
        "Finally, train a model `reg_news_fwl` on the residuals of the other two models! In this linear regression,\n",
        "\n",
        "-   the feature is `residual_news_x`\n",
        "-   the target variable is `residual_news_y`\n",
        "-   you will set `fit_intercept = False` - there is no $w_0$, since both feature and target variable are already zero-mean.\n",
        "\n",
        "Save the predictions on the training set in `yhat_news_fwl`, and the residual in `residual_news_fwl`."
      ],
      "id": "962690c0-a90c-40f1-921a-0a3a1198f8fc"
    },
    {
      "cell_type": "code",
      "execution_count": null,
      "metadata": {
        "id": "135947ee-f0ec-4332-81ee-9c8f88f8c37e"
      },
      "outputs": [],
      "source": [
        "#grade (write your code in this cell and DO NOT DELETE THIS LINE)\n",
        "\n",
        "# reg_news_fwl  = ...\n",
        "# yhat_news_fwl = ...\n",
        "# residual_news_fwl = ..."
      ],
      "id": "135947ee-f0ec-4332-81ee-9c8f88f8c37e"
    },
    {
      "cell_type": "markdown",
      "metadata": {
        "id": "ecd658d1-c237-4393-aafe-20756f7605a0"
      },
      "source": [
        "Check the coefficient of this model -"
      ],
      "id": "ecd658d1-c237-4393-aafe-20756f7605a0"
    },
    {
      "cell_type": "code",
      "execution_count": null,
      "metadata": {
        "id": "d6854820-d112-4164-88c7-f92bd48ca401"
      },
      "outputs": [],
      "source": [
        "reg_news_fwl.coef_"
      ],
      "id": "d6854820-d112-4164-88c7-f92bd48ca401"
    },
    {
      "cell_type": "markdown",
      "metadata": {
        "id": "17b6d7cf-96ff-4b49-8315-8b8416aa160e"
      },
      "source": [
        "and compare it to the coefficient for `newspaper` in the simple regression `reg_news`, and in the multiple regression `reg_multi`."
      ],
      "id": "17b6d7cf-96ff-4b49-8315-8b8416aa160e"
    },
    {
      "cell_type": "markdown",
      "metadata": {
        "id": "8bbba04c-3b6a-4b25-ab4e-54a55d633874"
      },
      "source": [
        "You can see that\n",
        "\n",
        "-   the association between “the part of `newspaper` *not* in `radio` or `TV`” and “the part of `sales` *not* predicted by `radio` or `TV`” (from this “residualized” model)\n",
        "-   is exactly the same as “the association between `newspaper` and `sales` when `radio` and `TV` are held constant” (from the multiple regression model fitted in the previous section).\n",
        "\n",
        "Furthermore, this “residualized” model helps us understand that part of `residual_news_y` is “explained” by “the part of `newspaper` *not* in `radio` or `TV`”, and part is not.\n",
        "\n",
        "We can see this more clearly in the following plot, which shows:\n",
        "\n",
        "-   `sales` vs `newspaper` with the regression line showing the effect of `newspaper`, according to the regression on `newspaper` alone.\n",
        "-   `sales` vs `newspaper` with the regression line showing the effect of `newspaper`, according to the multiple regression model.\n",
        "-   and the “residualized” `sales` vs “residualized” `newspaper` showing the effect of `newspaper` according to the FWL regression."
      ],
      "id": "8bbba04c-3b6a-4b25-ab4e-54a55d633874"
    },
    {
      "cell_type": "code",
      "execution_count": null,
      "metadata": {
        "id": "a13fd26f-b576-4f03-828c-bbc54309c4b2"
      },
      "outputs": [],
      "source": [
        "\n",
        "plt.figure(figsize=(12, 4));\n",
        "\n",
        "plt.subplot(1, 3, 1);\n",
        "sns.scatterplot(data=train, x=\"newspaper\", y=\"sales\");\n",
        "sns.lineplot(data=train, x=\"newspaper\", y=reg_news.predict(train[['newspaper']]), color='red');\n",
        "plt.ylim(0, 30);\n",
        "plt.xlim(-20, 120);\n",
        "plt.title(\"Simple Regression on Newspaper\");\n",
        "\n",
        "plt.subplot(1, 3, 2);\n",
        "sns.scatterplot(data=train, x=\"newspaper\", y=\"sales\");\n",
        "sns.lineplot(data=train, x=\"newspaper\", y=train['sales'].mean() - (reg_multi.coef_[2] * train['newspaper'].mean()) + reg_multi.coef_[2] * train['newspaper'], color='red');\n",
        "plt.ylim(0, 30);\n",
        "plt.xlim(-20, 120);\n",
        "plt.title(\"Multiple Regression\");\n",
        "\n",
        "plt.subplot(1, 3, 3);\n",
        "sns.scatterplot(x=residual_news_x, y=residual_news_y);\n",
        "sns.lineplot(x=residual_news_x, y=reg_news_fwl.predict(pd.DataFrame(residual_news_x)), color='red');\n",
        "plt.title(\"FWL Regression on Residuals\");\n",
        "plt.ylim(-10, 10);\n",
        "plt.xlim(-50, 90);\n",
        "\n",
        "plt.tight_layout();\n",
        "plt.show();"
      ],
      "id": "a13fd26f-b576-4f03-828c-bbc54309c4b2"
    },
    {
      "cell_type": "markdown",
      "metadata": {
        "id": "06eac24f-2637-4a28-b429-36a1502b24ac"
      },
      "source": [
        "**Comment on the results**.\n",
        "\n",
        "-   What was the coefficient for `newspaper` in the simple regression `reg_news`, in the multiple regression `reg_multi`, and in the “residualized” model?\n",
        "-   What do the first two panels show about the association between the `newspaper` feature and `sales`?\n",
        "-   The third panel shows the residualized `sales` (after accounting for the effect of `tv` and `radio`) and the residualized `newspaper` (after removing the parts that are “predicted” by `tv` and `radio`). What does this plot show us about the association between `newspaper` and `sales`, once we remove the effect of `tv` and `radio` from both `newspaper` and `sales`?"
      ],
      "id": "06eac24f-2637-4a28-b429-36a1502b24ac"
    },
    {
      "cell_type": "markdown",
      "metadata": {
        "id": "c9b0eef7-2f46-436b-acdc-0b5ba32695b5"
      },
      "source": [
        "### 5. Linear regression with interaction terms\n",
        "\n",
        "Finally, we will try to improve our regression by addressing patterns noted in the residuals of the multiple regression model.\n",
        "\n",
        "Our multiple linear regression includes additive effects of all three types of advertising media. However, it does not include *interaction* effects, in which combining different types of advertising media together results in a bigger boost in sales than just the additive effect of the individual media."
      ],
      "id": "c9b0eef7-2f46-436b-acdc-0b5ba32695b5"
    },
    {
      "cell_type": "markdown",
      "metadata": {
        "id": "77b3af01-2efe-4910-8b6f-6928638b0f86"
      },
      "source": [
        "#### Add interaction terms to the data\n",
        "\n",
        "The pattern in the residuals plots from parts (1) through (3) suggest that a model including an interaction effect may explain sales data better than a model including additive effects. Add four columns to each data frame (`train` and `test`):\n",
        "\n",
        "-   `newspaper` $\\times$ `radio` (name this column `newspaper_radio`)\n",
        "-   `TV` $\\times$ `radio` (name this column `TV_radio`)\n",
        "-   `newspaper` $\\times$ `TV` (name this column `newspaper_TV`)\n",
        "-   `newspaper` $\\times$ `radio` $\\times$ `TV` (name this column `newspaper_radio_TV`)\n",
        "\n",
        "Note: you can use the `assign` function in `pandas` ([documentation here](https://pandas.pydata.org/docs/reference/api/pandas.DataFrame.assign.html)) to create a new column and assign a value to it using operations on other columns."
      ],
      "id": "77b3af01-2efe-4910-8b6f-6928638b0f86"
    },
    {
      "cell_type": "code",
      "execution_count": null,
      "metadata": {
        "id": "e488ec1c-51a3-4062-9fc6-30fab265687a"
      },
      "outputs": [],
      "source": [
        "#grade (write your code in this cell and DO NOT DELETE THIS LINE)\n"
      ],
      "id": "e488ec1c-51a3-4062-9fc6-30fab265687a"
    },
    {
      "cell_type": "code",
      "execution_count": null,
      "metadata": {
        "id": "5312bfe2-926f-48e9-88ca-0f33edaa1e99"
      },
      "outputs": [],
      "source": [
        "train.info()"
      ],
      "id": "5312bfe2-926f-48e9-88ca-0f33edaa1e99"
    },
    {
      "cell_type": "code",
      "execution_count": null,
      "metadata": {
        "id": "6ece43ee-d4ca-4e77-ac0e-55a8e481c9d1"
      },
      "outputs": [],
      "source": [
        "#grade (write your code in this cell and DO NOT DELETE THIS LINE)\n"
      ],
      "id": "6ece43ee-d4ca-4e77-ac0e-55a8e481c9d1"
    },
    {
      "cell_type": "code",
      "execution_count": null,
      "metadata": {
        "id": "49833717-565c-419c-98e0-8f7b5f751643"
      },
      "outputs": [],
      "source": [
        "test.info()"
      ],
      "id": "49833717-565c-419c-98e0-8f7b5f751643"
    },
    {
      "cell_type": "markdown",
      "metadata": {
        "id": "da2863b9-c2f8-4c01-8cab-6629fd5d971e"
      },
      "source": [
        "#### Fit a multiple linear regression with interaction terms\n",
        "\n",
        "Then, train a linear regression model on all seven features: the three types of ad budgets, and the four interaction effects."
      ],
      "id": "da2863b9-c2f8-4c01-8cab-6629fd5d971e"
    },
    {
      "cell_type": "code",
      "execution_count": null,
      "metadata": {
        "id": "40670775-d48b-4ac4-a717-549c526805bd"
      },
      "outputs": [],
      "source": [
        "#grade (write your code in this cell and DO NOT DELETE THIS LINE)\n",
        "\n",
        "# reg_inter = ...."
      ],
      "id": "40670775-d48b-4ac4-a717-549c526805bd"
    },
    {
      "cell_type": "markdown",
      "metadata": {
        "id": "5ae48416-6b59-439c-8b40-962669bdfb28"
      },
      "source": [
        "#### Compute R2, MSE for multiple regression with interaction terms\n",
        "\n",
        "Then, let’s get:\n",
        "\n",
        "-   the predictions on the training set: `y_pred_tr_inter`\n",
        "-   the R2 score on the training set: `r2_tr_inter`\n",
        "-   the MSE on the training set: `mse_tr_inter`"
      ],
      "id": "5ae48416-6b59-439c-8b40-962669bdfb28"
    },
    {
      "cell_type": "code",
      "execution_count": null,
      "metadata": {
        "id": "82f1ccbe-d706-4772-97c3-bb1283e606ac"
      },
      "outputs": [],
      "source": [
        "#grade (write your code in this cell and DO NOT DELETE THIS LINE)\n",
        "\n",
        "# y_pred_tr_inter = ...\n",
        "# r2_tr_inter  = ...\n",
        "# mse_tr_inter = ..."
      ],
      "id": "82f1ccbe-d706-4772-97c3-bb1283e606ac"
    },
    {
      "cell_type": "code",
      "execution_count": null,
      "metadata": {
        "id": "e884cffd-1e64-441a-9ddf-7e99cb3fdb9f"
      },
      "outputs": [],
      "source": [
        "# print(\"Multiple regression with interaction R2:  \", r2_tr_inter)\n",
        "# print(\"Multiple regression with interaction MSE: \", mse_tr_inter)\n"
      ],
      "id": "e884cffd-1e64-441a-9ddf-7e99cb3fdb9f"
    },
    {
      "cell_type": "markdown",
      "metadata": {
        "id": "36e68bee-d089-4dd9-9c5c-50459234f362"
      },
      "source": [
        "#### Compute residuals\n",
        "\n",
        "Compute the residuals ($y - \\hat{y}$)."
      ],
      "id": "36e68bee-d089-4dd9-9c5c-50459234f362"
    },
    {
      "cell_type": "code",
      "execution_count": null,
      "metadata": {
        "id": "d2e6eb57-7281-4dc4-8198-846ff57d6628"
      },
      "outputs": [],
      "source": [
        "#grade (write your code in this cell and DO NOT DELETE THIS LINE)\n",
        "\n",
        "# residual_inter_tr = ..."
      ],
      "id": "d2e6eb57-7281-4dc4-8198-846ff57d6628"
    },
    {
      "cell_type": "markdown",
      "metadata": {
        "id": "f40e933d-7d4a-4856-ac78-a844fc3c1c04"
      },
      "source": [
        "#### Plot predicted vs. actual sales\n",
        "\n",
        "Next, plot predicted sales vs. actual sales for the multiple regression model with interaction terms.\n",
        "\n",
        "-   Create a scatter plot of predicted sales ($\\hat{y}$) on the vertical axis, and actual sales ($y$) on the horizontal axis.\n",
        "-   Make sure both axes use the same scale (the range of the vertical axis should be the same as the range of the horizontal axis). Make sure the scale is appropriate (does not exclude data, and does not make it difficult to see the data due to excessive whitespace). Also, the plot area should be square-shaped (similar height and width) in order to make the relevant trend easier to see.\n",
        "-   Label each axes."
      ],
      "id": "f40e933d-7d4a-4856-ac78-a844fc3c1c04"
    },
    {
      "cell_type": "code",
      "execution_count": null,
      "metadata": {
        "id": "dbb6f539-45e5-4433-a258-4ba10df765fd"
      },
      "outputs": [],
      "source": [
        "# plot\n"
      ],
      "id": "dbb6f539-45e5-4433-a258-4ba10df765fd"
    },
    {
      "cell_type": "markdown",
      "metadata": {
        "id": "e4224ad2-6b37-483f-9554-da78eca9c518"
      },
      "source": [
        "**Comment on this plot**. What would you expect this plot to look like for a model that explains the data well? What does the plot tell you about your model in this specific case? In particular, compare what you observe here to your observations from the similar plot on the multiple regression model without interaction terms."
      ],
      "id": "e4224ad2-6b37-483f-9554-da78eca9c518"
    },
    {
      "cell_type": "markdown",
      "metadata": {
        "id": "e1a8749a-ff2b-476a-85ec-a2b832093ad2"
      },
      "source": [
        "#### Plot residuals vs. actual sales\n",
        "\n",
        "Next, create a plot of residuals vs. actual sales for the multiple regression model with interaction terms.\n",
        "\n",
        "-   Create a scatter plot with the residuals ($y - \\hat{y}$) on the vertical axis, and actual sales ($y$) on the horizontal axis.\n",
        "-   Make sure the scale is appropriate (does not exclude data, and does not make it difficult to see the data due to excessive whitespace). Also, the plot area should be square-shaped (similar height and width) in order to make the relevant trend easier to see.\n",
        "-   Label each axes, and each plot."
      ],
      "id": "e1a8749a-ff2b-476a-85ec-a2b832093ad2"
    },
    {
      "cell_type": "code",
      "execution_count": null,
      "metadata": {
        "id": "79471ba8-8cdc-4f75-9f33-23dd4e9c8d66"
      },
      "outputs": [],
      "source": [
        "# plot\n"
      ],
      "id": "79471ba8-8cdc-4f75-9f33-23dd4e9c8d66"
    },
    {
      "cell_type": "markdown",
      "metadata": {
        "id": "1c6a1047-fb49-47e4-905b-244ab8537136"
      },
      "source": [
        "**Comment on this plot**. Is there a pattern in the residuals (and if so, what might it indicate), or do they appear to have no pattern with respect to actual sales? In particular, compare what you observe here to your observations from the similar plot on the multiple regression model without interaction terms."
      ],
      "id": "1c6a1047-fb49-47e4-905b-244ab8537136"
    },
    {
      "cell_type": "markdown",
      "metadata": {
        "id": "86883a5c-6766-4228-8278-f3151ae130cf"
      },
      "source": [
        "#### Plot residuals vs. features\n",
        "\n",
        "Finally, you’ll create a plot of residuals vs. features, for each of the three **original** features (not the interaction terms), for your multiple regression model with interaction terms. Put your three subplots in one row.\n",
        "\n",
        "In each subplot,\n",
        "\n",
        "-   create a scatter plot with the residuals ($y - \\hat{y}$) on the vertical axis, and the feature ($x$) on the horizontal axis.\n",
        "-   Use the same vertical scale for all subplots (but the horizontal scale will depend on the feature! The upper end of the TV ad spending range is different from the radio ad spending range.) Make sure the scale is appropriate (does not exclude data, and does not make it difficult to see the data due to excessive whitespace). Also, the plot area for each subplot should be square-shaped (similar height and width) in order to make the relevant trend easier to see.\n",
        "-   Make sure to clearly label each axis, and also label each subplot with a title that indicates which regression model it uses."
      ],
      "id": "86883a5c-6766-4228-8278-f3151ae130cf"
    },
    {
      "cell_type": "code",
      "execution_count": null,
      "metadata": {
        "id": "3b1c660c-f32f-4257-9dd1-9ae763d1790c"
      },
      "outputs": [],
      "source": [
        "# plot\n"
      ],
      "id": "3b1c660c-f32f-4257-9dd1-9ae763d1790c"
    },
    {
      "cell_type": "markdown",
      "metadata": {
        "id": "a79aa0ef-86e0-4eb4-93e6-6473b2eb7bdb"
      },
      "source": [
        "**Comment on this plot**. Is there a pattern in the residuals (and if so, what might it indicate), or do they appear to have no pattern with respect to each of the three features? In particular, compare what you observe here to your observations from the similar plot on the multiple regression model without interaction terms."
      ],
      "id": "a79aa0ef-86e0-4eb4-93e6-6473b2eb7bdb"
    },
    {
      "cell_type": "markdown",
      "metadata": {
        "id": "92687dc5-37fe-4505-bb96-e024278ce612"
      },
      "source": [
        "#### Compute test R2, MSE for multiple regression with interaction terms\n",
        "\n",
        "Finally, use this fitted model to get:\n",
        "\n",
        "-   the predictions on the **test** set: `y_pred_ts_inter`\n",
        "-   the R2 score on the **test** set: `r2_ts_inter`\n",
        "-   the MSE on the \\*\\*test\\* set: `mse_ts_inter`"
      ],
      "id": "92687dc5-37fe-4505-bb96-e024278ce612"
    },
    {
      "cell_type": "code",
      "execution_count": null,
      "metadata": {
        "id": "d5386e9a-28ef-410b-b69f-1f00899ad586"
      },
      "outputs": [],
      "source": [
        "#grade (write your code in this cell and DO NOT DELETE THIS LINE)\n",
        "\n",
        "# y_pred_ts_inter = ...\n",
        "# r2_ts_inter  = ...\n",
        "# mse_ts_inter = ..."
      ],
      "id": "d5386e9a-28ef-410b-b69f-1f00899ad586"
    },
    {
      "cell_type": "code",
      "execution_count": null,
      "metadata": {
        "id": "15705f7b-2829-45c3-b8f3-e7a6868a6ced"
      },
      "outputs": [],
      "source": [
        "# print(\"Multiple regression with interaction R2 - test set:  \", r2_ts_inter)\n",
        "# print(\"Multiple regression with interaction MSE- test set: \", mse_ts_inter)\n"
      ],
      "id": "15705f7b-2829-45c3-b8f3-e7a6868a6ced"
    }
  ],
  "nbformat": 4,
  "nbformat_minor": 5,
  "metadata": {
    "colab": {
      "provenance": []
    }
  }
}